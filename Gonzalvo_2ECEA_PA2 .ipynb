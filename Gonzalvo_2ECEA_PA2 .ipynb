{
 "cells": [
  {
   "cell_type": "markdown",
   "id": "d543fe09-db92-469e-b445-03900ec52828",
   "metadata": {},
   "source": [
    "## Bruce Benedict M. Gonzalvo\n",
    "## 2ECEA\n",
    "\n",
    "## NORMALIZATION PROBLEM: \n",
    "Normalization is one of the most basic preprocessing techniques in \n",
    "data analytics. This involves centering and scaling process. Centering means subtracting the data from the \n",
    "mean and scaling means dividing with its standard deviation. Mathematically, normalization can be \n",
    "expressed as: \n",
    "𝑍 = 𝑋 − 𝑥̅/𝜎\n",
    "In Python, element-wise mean and element-wise standard deviation can be obtained by using .mean() and \n",
    ".std() calls. \n",
    "In this problem, create a random 5 x 5 ndarray and store it to variable X. Normalize X. Save your normalized \n",
    "ndarray as X_normalized.npy"
   ]
  },
  {
   "cell_type": "code",
   "execution_count": 101,
   "id": "ffa1dd86",
   "metadata": {},
   "outputs": [],
   "source": [
    "#Imports the numpy library gives it an alias '.np'\n",
    "import numpy as np"
   ]
  },
  {
   "cell_type": "code",
   "execution_count": 102,
   "id": "f8de88b3-f9a3-42b1-9f61-00d2d3db8351",
   "metadata": {},
   "outputs": [],
   "source": [
    "#Test the mean and standard deviation calculations of a given array.Ensures that computed values match expected values for accuracy verification.\n",
    "def test_mean_std_dev():\n",
    "    # create a test array\n",
    "    test_array = np.array([1, 2, 3 ,4, 5])\n",
    "    \n",
    "    # define the expected mean and standard deviation\n",
    "    expected_mean = 3\n",
    "    expected_std_dev = np.std(test_array)\n",
    "    \n",
    "    # compute the mean and standard deviation of the test array\n",
    "    computed_mean = test_array.mean()\n",
    "    computed_std_dev = test_array.std()\n",
    "\n",
    "    # check if the computed_mean matches expected_mean\n",
    "    # if not, raise an AssertionError with the message \"Mean test failed.\"\n",
    "    assert computed_mean == expected_mean,\"Mean test failed.\"\n",
    "    \n",
    "    # verify that computed_std_dev equals expected_std_dev\n",
    "    # if this assertion fails, raise an AssertionError with the message \"Standard deviation test failed.\"\n",
    "    assert computed_std_dev == expected_std_dev, \"Standard deviation test failed.\"\n",
    "\n",
    "test_mean_std_dev()"
   ]
  },
  {
   "cell_type": "code",
   "execution_count": 103,
   "id": "8a7d1ed5",
   "metadata": {},
   "outputs": [],
   "source": [
    "# set the random seed to ensure reproducibility\n",
    "np.random.seed(42)"
   ]
  },
  {
   "cell_type": "code",
   "execution_count": 104,
   "id": "683a9a85-6560-4814-bb90-0e35f02cc2fe",
   "metadata": {},
   "outputs": [],
   "source": [
    "#Generates a 5 x 5 matrix of random numbers between 0 and 1\n",
    "X = np.random.rand(5,5)"
   ]
  },
  {
   "cell_type": "code",
   "execution_count": 105,
   "id": "8e59d7a7-64f9-46f3-a572-aad01becfa2f",
   "metadata": {},
   "outputs": [],
   "source": [
    "#Calculate the mean of the matrix \n",
    "mean = X.mean()"
   ]
  },
  {
   "cell_type": "code",
   "execution_count": 106,
   "id": "2c008893-0648-4ba3-b627-36ac60d92279",
   "metadata": {},
   "outputs": [],
   "source": [
    "#Calculate the standard deviation of the matrix \n",
    "std_dev = X.std()"
   ]
  },
  {
   "cell_type": "code",
   "execution_count": 107,
   "id": "8dd4d673-4d4b-48b9-ac6c-5763365eab98",
   "metadata": {},
   "outputs": [],
   "source": [
    "#Normalized the matrix so that its mean is 0 and its standard deviation is 1\n",
    "X_normalized = (X - mean)/std_dev"
   ]
  },
  {
   "cell_type": "code",
   "execution_count": 108,
   "id": "6f95e25e-0374-43a0-ae0e-a4ccec38bfa7",
   "metadata": {},
   "outputs": [],
   "source": [
    "#Save the matrix to the file 'X_normalized.npy'\n",
    "np.save('X_normalized.npy', X_normalized)"
   ]
  },
  {
   "cell_type": "code",
   "execution_count": 109,
   "id": "e3106f9a-e119-4ee7-bf09-50657dabc55e",
   "metadata": {
    "scrolled": true
   },
   "outputs": [
    {
     "name": "stdout",
     "output_type": "stream",
     "text": [
      "[[-0.23709911  1.82467557  1.04200929  0.56488331 -1.01905371]\n",
      " [-1.01914002 -1.36950322  1.52216525  0.57367372  0.95640937]\n",
      " [-1.5036896   1.89336468  1.40145369 -0.81751722 -0.92670866]\n",
      " [-0.92105645 -0.48865218  0.30043311 -0.03168212 -0.5352181 ]\n",
      " [ 0.61209803 -1.07818578 -0.53194206 -0.26636415  0.05464636]]\n"
     ]
    }
   ],
   "source": [
    "#Load the normalized matrix from 'X_normalized.npy', handling errors gracefully\n",
    "try:\n",
    "    normalized_array = np.load('X_normalized.npy')\n",
    "    \n",
    "    print(normalized_array)\n",
    "    \n",
    "except FileNotFoundError:\n",
    "\n",
    "    print(\"Error: The file 'X_normalized.npy' does not exist.\")\n",
    "    \n",
    "except Exception as e:\n",
    "\n",
    "    print(f\"An error occurred: {e}\")"
   ]
  },
  {
   "cell_type": "markdown",
   "id": "b9ea5eef-4d6e-4f47-9547-3416b50173b7",
   "metadata": {},
   "source": [
    "## DIVISIBLE BY 3 PROBLEM: Create the following 10 x 10 ndarray.\n",
    "𝐴 =\n",
    "[1 4 ⋯ 81 100\n",
    "⋮ ⋮ ⋱ ⋮ ⋮\n",
    "⋮ ⋮ ⋱ ⋮ ⋮\n",
    "⋮ ⋮ ⋱ ⋮ ⋮\n",
    "8281 8464 ⋯ 9801 10000]\n",
    "which are the squares of the first 100 positive integers. \n",
    "From this ndarray, determine all the elements that are divisible by 3. Save the result as div_by_3.npy"
   ]
  },
  {
   "cell_type": "code",
   "execution_count": 52,
   "id": "e695030b-c108-477c-90c1-3e3ce790e031",
   "metadata": {},
   "outputs": [
    {
     "data": {
      "text/plain": [
       "array([[    1,     4,     9,    16,    25,    36,    49,    64,    81,\n",
       "          100],\n",
       "       [  121,   144,   169,   196,   225,   256,   289,   324,   361,\n",
       "          400],\n",
       "       [  441,   484,   529,   576,   625,   676,   729,   784,   841,\n",
       "          900],\n",
       "       [  961,  1024,  1089,  1156,  1225,  1296,  1369,  1444,  1521,\n",
       "         1600],\n",
       "       [ 1681,  1764,  1849,  1936,  2025,  2116,  2209,  2304,  2401,\n",
       "         2500],\n",
       "       [ 2601,  2704,  2809,  2916,  3025,  3136,  3249,  3364,  3481,\n",
       "         3600],\n",
       "       [ 3721,  3844,  3969,  4096,  4225,  4356,  4489,  4624,  4761,\n",
       "         4900],\n",
       "       [ 5041,  5184,  5329,  5476,  5625,  5776,  5929,  6084,  6241,\n",
       "         6400],\n",
       "       [ 6561,  6724,  6889,  7056,  7225,  7396,  7569,  7744,  7921,\n",
       "         8100],\n",
       "       [ 8281,  8464,  8649,  8836,  9025,  9216,  9409,  9604,  9801,\n",
       "        10000]])"
      ]
     },
     "execution_count": 52,
     "metadata": {},
     "output_type": "execute_result"
    }
   ],
   "source": [
    "#Create a 10 x 10 array of squares of the numbers from 1 to 100\n",
    "A = (np.arange(1, 101)**2).reshape(10, 10)\n",
    "A"
   ]
  },
  {
   "cell_type": "code",
   "execution_count": 53,
   "id": "a86fa16e-e263-4ae4-a53d-3c8a6c655038",
   "metadata": {},
   "outputs": [],
   "source": [
    "#Filter the array to include only elements divisible by 3 \n",
    "divisible_by_3 = A[A % 3 == 0]"
   ]
  },
  {
   "cell_type": "code",
   "execution_count": 54,
   "id": "7897731c-7404-4b2c-900e-683370abef3a",
   "metadata": {},
   "outputs": [
    {
     "data": {
      "text/plain": [
       "array([   9,   36,   81,  144,  225,  324,  441,  576,  729,  900, 1089,\n",
       "       1296, 1521, 1764, 2025, 2304, 2601, 2916, 3249, 3600, 3969, 4356,\n",
       "       4761, 5184, 5625, 6084, 6561, 7056, 7569, 8100, 8649, 9216, 9801])"
      ]
     },
     "execution_count": 54,
     "metadata": {},
     "output_type": "execute_result"
    }
   ],
   "source": [
    "#Save the filtered array to the file 'div_by_3.npy'.\n",
    "np.save('div_by_3.npy', divisible_by_3)\n",
    "divisible_by_3"
   ]
  },
  {
   "cell_type": "code",
   "execution_count": 55,
   "id": "c185226f-6333-4b3a-a41f-c5f3ee9e255c",
   "metadata": {},
   "outputs": [
    {
     "name": "stdout",
     "output_type": "stream",
     "text": [
      "[   9   36   81  144  225  324  441  576  729  900 1089 1296 1521 1764\n",
      " 2025 2304 2601 2916 3249 3600 3969 4356 4761 5184 5625 6084 6561 7056\n",
      " 7569 8100 8649 9216 9801]\n"
     ]
    }
   ],
   "source": [
    "#Load and print the .npy file to verify its contents \n",
    "load_data = np.load('div_by_3.npy')\n",
    "print(load_data)"
   ]
  }
 ],
 "metadata": {
  "kernelspec": {
   "display_name": "Python 3 (ipykernel)",
   "language": "python",
   "name": "python3"
  },
  "language_info": {
   "codemirror_mode": {
    "name": "ipython",
    "version": 3
   },
   "file_extension": ".py",
   "mimetype": "text/x-python",
   "name": "python",
   "nbconvert_exporter": "python",
   "pygments_lexer": "ipython3",
   "version": "3.12.4"
  }
 },
 "nbformat": 4,
 "nbformat_minor": 5
}
