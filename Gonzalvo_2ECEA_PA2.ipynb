{
 "cells": [
  {
   "cell_type": "markdown",
   "id": "d543fe09-db92-469e-b445-03900ec52828",
   "metadata": {},
   "source": [
    "## Bruce Benedict M. Gonzalvo\n",
    "## 2ECEA\n",
    "\n",
    "## NORMALIZATION PROBLEM: \n",
    "Normalization is one of the most basic preprocessing techniques in \n",
    "data analytics. This involves centering and scaling process. Centering means subtracting the data from the \n",
    "mean and scaling means dividing with its standard deviation. Mathematically, normalization can be \n",
    "expressed as: \n",
    "𝑍 = 𝑋 − 𝑥̅/𝜎\n",
    "In Python, element-wise mean and element-wise standard deviation can be obtained by using .mean() and \n",
    ".std() calls. \n",
    "In this problem, create a random 5 x 5 ndarray and store it to variable X. Normalize X. Save your normalized \n",
    "ndarray as X_normalized.npy"
   ]
  },
  {
   "cell_type": "code",
   "execution_count": 2,
   "id": "e69eff89-900b-4749-b169-014fcb1d4315",
   "metadata": {},
   "outputs": [],
   "source": [
    "#Imports the numpy library gives it an alias '.np'\n",
    "import numpy as np"
   ]
  },
  {
   "cell_type": "code",
   "execution_count": 3,
   "id": "683a9a85-6560-4814-bb90-0e35f02cc2fe",
   "metadata": {},
   "outputs": [],
   "source": [
    "#This creates a 5 by 5 grid (like a small table) where each spot in the table gets a random number between 0 and almost 1, like 0.5 or 0.8\n",
    "X = np.random.rand(5,5)"
   ]
  },
  {
   "cell_type": "code",
   "execution_count": 4,
   "id": "8e59d7a7-64f9-46f3-a572-aad01becfa2f",
   "metadata": {},
   "outputs": [],
   "source": [
    "#This finds the average (or middle) number of all the numbers in my grid.\n",
    "mean = X.mean()"
   ]
  },
  {
   "cell_type": "code",
   "execution_count": 5,
   "id": "2c008893-0648-4ba3-b627-36ac60d92279",
   "metadata": {},
   "outputs": [],
   "source": [
    "#This computes the standard deviation of the array X. \n",
    "std_dev = X.std()"
   ]
  },
  {
   "cell_type": "code",
   "execution_count": 6,
   "id": "8dd4d673-4d4b-48b9-ac6c-5763365eab98",
   "metadata": {},
   "outputs": [],
   "source": [
    "#This changes all your numbers so they are adjusted around the number zero, making it easier to compare them. This is like adjusting weights so they balance perfectly on a seesaw.\n",
    "X_normalized = (X - mean)/std_dev"
   ]
  },
  {
   "cell_type": "code",
   "execution_count": 7,
   "id": "6f95e25e-0374-43a0-ae0e-a4ccec38bfa7",
   "metadata": {},
   "outputs": [],
   "source": [
    "#This saves the normalized array\n",
    "np.save('X_normalized', X_normalized)"
   ]
  },
  {
   "cell_type": "code",
   "execution_count": 8,
   "id": "e3106f9a-e119-4ee7-bf09-50657dabc55e",
   "metadata": {},
   "outputs": [
    {
     "name": "stdout",
     "output_type": "stream",
     "text": [
      "[[ 0.31943307 -0.68132562 -1.22963049  1.16674169 -1.21378817]\n",
      " [ 0.52938367 -1.37349932 -1.36332946  0.24522543  0.79599239]\n",
      " [ 0.95878498  0.80433094  0.88666192 -1.48841624 -0.67441208]\n",
      " [ 1.31866439  0.94054584 -0.30147873  1.30738151 -1.26362306]\n",
      " [ 1.08631738 -0.61754295 -0.3630178   1.24759184 -1.03699113]]\n"
     ]
    }
   ],
   "source": [
    "#load and display the normalized array\n",
    "normalized_array = np.load('X_normalized.npy')\n",
    "print(normalized_array)"
   ]
  },
  {
   "cell_type": "markdown",
   "id": "b9ea5eef-4d6e-4f47-9547-3416b50173b7",
   "metadata": {},
   "source": [
    "## DIVISIBLE BY 3 PROBLEM: Create the following 10 x 10 ndarray.\n",
    "𝐴 =\n",
    "[1 4 ⋯ 81 100\n",
    "⋮ ⋮ ⋱ ⋮ ⋮\n",
    "⋮ ⋮ ⋱ ⋮ ⋮\n",
    "⋮ ⋮ ⋱ ⋮ ⋮\n",
    "8281 8464 ⋯ 9801 10000]\n",
    "which are the squares of the first 100 positive integers. \n",
    "From this ndarray, determine all the elements that are divisible by 3. Save the result as div_by_3.npy"
   ]
  },
  {
   "cell_type": "code",
   "execution_count": 9,
   "id": "71bc9b40-c6cc-40ad-b81e-7bcadbaa2170",
   "metadata": {},
   "outputs": [],
   "source": [
    "import numpy as np"
   ]
  },
  {
   "cell_type": "code",
   "execution_count": 10,
   "id": "e695030b-c108-477c-90c1-3e3ce790e031",
   "metadata": {},
   "outputs": [],
   "source": [
    "#This function creates an array. Inside, there's a list comprehension ([i**2 for i in range(1, 101)]) that generates the squares of numbers from 1 to 100.\n",
    "squares = np.array([i**2 for i in range(1,101)])"
   ]
  },
  {
   "cell_type": "code",
   "execution_count": 12,
   "id": "847353b1-7e7d-44e5-838d-b193140ac42d",
   "metadata": {},
   "outputs": [
    {
     "data": {
      "text/plain": [
       "array([[    1,     4,     9,    16,    25,    36,    49,    64,    81,\n",
       "          100],\n",
       "       [  121,   144,   169,   196,   225,   256,   289,   324,   361,\n",
       "          400],\n",
       "       [  441,   484,   529,   576,   625,   676,   729,   784,   841,\n",
       "          900],\n",
       "       [  961,  1024,  1089,  1156,  1225,  1296,  1369,  1444,  1521,\n",
       "         1600],\n",
       "       [ 1681,  1764,  1849,  1936,  2025,  2116,  2209,  2304,  2401,\n",
       "         2500],\n",
       "       [ 2601,  2704,  2809,  2916,  3025,  3136,  3249,  3364,  3481,\n",
       "         3600],\n",
       "       [ 3721,  3844,  3969,  4096,  4225,  4356,  4489,  4624,  4761,\n",
       "         4900],\n",
       "       [ 5041,  5184,  5329,  5476,  5625,  5776,  5929,  6084,  6241,\n",
       "         6400],\n",
       "       [ 6561,  6724,  6889,  7056,  7225,  7396,  7569,  7744,  7921,\n",
       "         8100],\n",
       "       [ 8281,  8464,  8649,  8836,  9025,  9216,  9409,  9604,  9801,\n",
       "        10000]])"
      ]
     },
     "execution_count": 12,
     "metadata": {},
     "output_type": "execute_result"
    }
   ],
   "source": [
    "#This reshapes the list of 100 numbers into a 10x10 matrix\n",
    "A = squares.reshape(10,10)\n",
    "A"
   ]
  },
  {
   "cell_type": "code",
   "execution_count": 13,
   "id": "a86fa16e-e263-4ae4-a53d-3c8a6c655038",
   "metadata": {},
   "outputs": [],
   "source": [
    "#This checks each number in array A to see if it has no remainder when divided by 3 (which means it's divisible by 3).\n",
    "divisible_by_3 = A[A % 3 == 0]"
   ]
  },
  {
   "cell_type": "code",
   "execution_count": 16,
   "id": "7897731c-7404-4b2c-900e-683370abef3a",
   "metadata": {},
   "outputs": [
    {
     "data": {
      "text/plain": [
       "array([   9,   36,   81,  144,  225,  324,  441,  576,  729,  900, 1089,\n",
       "       1296, 1521, 1764, 2025, 2304, 2601, 2916, 3249, 3600, 3969, 4356,\n",
       "       4761, 5184, 5625, 6084, 6561, 7056, 7569, 8100, 8649, 9216, 9801])"
      ]
     },
     "execution_count": 16,
     "metadata": {},
     "output_type": "execute_result"
    }
   ],
   "source": [
    "#This saves the filtered numbers to a file named\n",
    "np.save('div_by_3.npy', divisible_by_3)\n",
    "divisible_by_3"
   ]
  },
  {
   "cell_type": "code",
   "execution_count": 15,
   "id": "c185226f-6333-4b3a-a41f-c5f3ee9e255c",
   "metadata": {},
   "outputs": [
    {
     "name": "stdout",
     "output_type": "stream",
     "text": [
      "[   9   36   81  144  225  324  441  576  729  900 1089 1296 1521 1764\n",
      " 2025 2304 2601 2916 3249 3600 3969 4356 4761 5184 5625 6084 6561 7056\n",
      " 7569 8100 8649 9216 9801]\n"
     ]
    }
   ],
   "source": [
    "#Load the .npy file back into Python and print it to check what’s inside.\n",
    "load_data = np.load('div_by_3.npy')\n",
    "print(load_data)"
   ]
  }
 ],
 "metadata": {
  "kernelspec": {
   "display_name": "Python 3 (ipykernel)",
   "language": "python",
   "name": "python3"
  },
  "language_info": {
   "codemirror_mode": {
    "name": "ipython",
    "version": 3
   },
   "file_extension": ".py",
   "mimetype": "text/x-python",
   "name": "python",
   "nbconvert_exporter": "python",
   "pygments_lexer": "ipython3",
   "version": "3.12.4"
  }
 },
 "nbformat": 4,
 "nbformat_minor": 5
}
