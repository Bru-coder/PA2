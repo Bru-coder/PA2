{
 "cells": [
  {
   "cell_type": "markdown",
   "id": "d543fe09-db92-469e-b445-03900ec52828",
   "metadata": {},
   "source": [
    "## Bruce Benedict M. Gonzalvo\n",
    "## 2ECEA\n",
    "\n",
    "## NORMALIZATION PROBLEM: \n",
    "Normalization is one of the most basic preprocessing techniques in \n",
    "data analytics. This involves centering and scaling process. Centering means subtracting the data from the \n",
    "mean and scaling means dividing with its standard deviation. Mathematically, normalization can be \n",
    "expressed as: \n",
    "𝑍 = 𝑋 − 𝑥̅/𝜎\n",
    "In Python, element-wise mean and element-wise standard deviation can be obtained by using .mean() and \n",
    ".std() calls. \n",
    "In this problem, create a random 5 x 5 ndarray and store it to variable X. Normalize X. Save your normalized \n",
    "ndarray as X_normalized.npy"
   ]
  },
  {
   "cell_type": "code",
   "execution_count": 84,
   "id": "e69eff89-900b-4749-b169-014fcb1d4315",
   "metadata": {},
   "outputs": [],
   "source": [
    "#Imports the numpy library gives it an alias '.np'\n",
    "import numpy as np"
   ]
  },
  {
   "cell_type": "code",
   "execution_count": 85,
   "id": "683a9a85-6560-4814-bb90-0e35f02cc2fe",
   "metadata": {},
   "outputs": [],
   "source": [
    "#This creates a 5 by 5 grid (like a small table) where each spot in the table gets a random number between 0 and almost 1, like 0.5 or 0.8\n",
    "X = np.random.random((5,5))"
   ]
  },
  {
   "cell_type": "code",
   "execution_count": 86,
   "id": "8e59d7a7-64f9-46f3-a572-aad01becfa2f",
   "metadata": {},
   "outputs": [],
   "source": [
    "#This finds the average (or middle) number of all the numbers in my grid.\n",
    "mean = X.mean()"
   ]
  },
  {
   "cell_type": "code",
   "execution_count": 87,
   "id": "2c008893-0648-4ba3-b627-36ac60d92279",
   "metadata": {},
   "outputs": [],
   "source": [
    "#This computes the standard deviation of the array X. \n",
    "std_dev = X.std()"
   ]
  },
  {
   "cell_type": "code",
   "execution_count": 88,
   "id": "8dd4d673-4d4b-48b9-ac6c-5763365eab98",
   "metadata": {},
   "outputs": [],
   "source": [
    "#This changes all your numbers so they are adjusted around the number zero, making it easier to compare them. This is like adjusting weights so they balance perfectly on a seesaw.\n",
    "X_normalized = (X - mean)/std_dev"
   ]
  },
  {
   "cell_type": "code",
   "execution_count": 89,
   "id": "6f95e25e-0374-43a0-ae0e-a4ccec38bfa7",
   "metadata": {},
   "outputs": [],
   "source": [
    "#This saves the normalized array\n",
    "np.save('X_normalized', X_normalized)"
   ]
  },
  {
   "cell_type": "code",
   "execution_count": 90,
   "id": "e3106f9a-e119-4ee7-bf09-50657dabc55e",
   "metadata": {},
   "outputs": [
    {
     "name": "stdout",
     "output_type": "stream",
     "text": [
      "[[-0.04503018  1.69606898  1.16888859  0.02916578  0.07150913]\n",
      " [-1.41685988  0.73527623  0.71740381  1.28831265  0.31447698]\n",
      " [-1.42992439 -0.1846542   0.63147492  0.71273664 -0.57246075]\n",
      " [-0.74272091  0.44847375  1.33722067  0.80811488 -1.11704572]\n",
      " [-1.5237509  -1.82983825 -1.25582661  0.75504888 -0.59606007]]\n"
     ]
    }
   ],
   "source": [
    "#load and display the normalized array\n",
    "normalized_array = np.load('X_normalized.npy')\n",
    "print(normalized_array)"
   ]
  },
  {
   "cell_type": "markdown",
   "id": "b9ea5eef-4d6e-4f47-9547-3416b50173b7",
   "metadata": {},
   "source": [
    "## DIVISIBLE BY 3 PROBLEM: Create the following 10 x 10 ndarray.\n",
    "𝐴 =\n",
    "[1 4 ⋯ 81 100\n",
    "⋮ ⋮ ⋱ ⋮ ⋮\n",
    "⋮ ⋮ ⋱ ⋮ ⋮\n",
    "⋮ ⋮ ⋱ ⋮ ⋮\n",
    "8281 8464 ⋯ 9801 10000]\n",
    "which are the squares of the first 100 positive integers. \n",
    "From this ndarray, determine all the elements that are divisible by 3. Save the result as div_by_3.npy"
   ]
  },
  {
   "cell_type": "code",
   "execution_count": 91,
   "id": "71bc9b40-c6cc-40ad-b81e-7bcadbaa2170",
   "metadata": {},
   "outputs": [],
   "source": [
    "import numpy as np"
   ]
  },
  {
   "cell_type": "code",
   "execution_count": 92,
   "id": "e695030b-c108-477c-90c1-3e3ce790e031",
   "metadata": {},
   "outputs": [],
   "source": [
    "#This function creates an array. Inside, there's a list comprehension ([i**2 for i in range(1, 101)]) that generates the squares of numbers from 1 to 100.\n",
    "squares = np.array([i**2 for i in range(1,101)])"
   ]
  },
  {
   "cell_type": "code",
   "execution_count": 93,
   "id": "847353b1-7e7d-44e5-838d-b193140ac42d",
   "metadata": {},
   "outputs": [],
   "source": [
    "#This reshapes the list of 100 numbers into a 10x10 matrix\n",
    "A = squares.reshape(10,10)"
   ]
  },
  {
   "cell_type": "code",
   "execution_count": 94,
   "id": "a86fa16e-e263-4ae4-a53d-3c8a6c655038",
   "metadata": {},
   "outputs": [],
   "source": [
    "#This checks each number in array A to see if it has no remainder when divided by 3 (which means it's divisible by 3).\n",
    "divisible_by_3 = A[A % 3 == 0]"
   ]
  },
  {
   "cell_type": "code",
   "execution_count": 95,
   "id": "7897731c-7404-4b2c-900e-683370abef3a",
   "metadata": {},
   "outputs": [],
   "source": [
    "#This saves the filtered numbers to a file named\n",
    "np.save('div_by_3.npy', divisible_by_3)"
   ]
  },
  {
   "cell_type": "code",
   "execution_count": 96,
   "id": "c185226f-6333-4b3a-a41f-c5f3ee9e255c",
   "metadata": {},
   "outputs": [
    {
     "name": "stdout",
     "output_type": "stream",
     "text": [
      "[   9   36   81  144  225  324  441  576  729  900 1089 1296 1521 1764\n",
      " 2025 2304 2601 2916 3249 3600 3969 4356 4761 5184 5625 6084 6561 7056\n",
      " 7569 8100 8649 9216 9801]\n"
     ]
    }
   ],
   "source": [
    "#Load the .npy file back into Python and print it to check what’s inside.\n",
    "load_data = np.load('div_by_3.npy')\n",
    "print(load_data)"
   ]
  }
 ],
 "metadata": {
  "kernelspec": {
   "display_name": "Python 3 (ipykernel)",
   "language": "python",
   "name": "python3"
  },
  "language_info": {
   "codemirror_mode": {
    "name": "ipython",
    "version": 3
   },
   "file_extension": ".py",
   "mimetype": "text/x-python",
   "name": "python",
   "nbconvert_exporter": "python",
   "pygments_lexer": "ipython3",
   "version": "3.12.4"
  }
 },
 "nbformat": 4,
 "nbformat_minor": 5
}
